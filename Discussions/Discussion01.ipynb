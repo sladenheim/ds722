{
 "cells": [
  {
   "cell_type": "markdown",
   "id": "82bd3199",
   "metadata": {},
   "source": [
    "# Discussion Week 2\n",
    "\n",
    "In this discussion we review vector and matrix operations. You will need to work some of these problems out by hand as well as to evaluate them in the Jupyter notebook. \n",
    "\n",
    "You can use the Shared Computing Cluster (SCC) or Google Colab to run this notebook.\n",
    "\n",
    "The general instructions for running on the SCC are available under General Resources on [Piazza](https://piazza.com/bu/fall2025/ds722/resources)."
   ]
  },
  {
   "cell_type": "markdown",
   "id": "c1c47e9f",
   "metadata": {},
   "source": [
    "## Inner Products\n",
    "\n",
    "Given the vectors \n",
    "\n",
    "$$\n",
    "\\mathbf{x} = \\begin{bmatrix} 2 \\\\ 2 \\\\ -1\\end{bmatrix}, \\quad \\mathbf{y}= \\begin{bmatrix} 2 \\\\ -1 \\\\ 2\\end{bmatrix},\n",
    "$$\n",
    "\n",
    "compute by hand\n",
    "\n",
    "1. $\\mathbf{x}^{T}\\mathbf{y}$\n",
    "1. $\\Vert \\mathbf{x}\\Vert_{2}$ and $\\Vert\\mathbf{y}\\Vert_{2}$\n",
    "1. the angle between $\\mathbf{x}$ and $\\mathbf{y}$\n",
    "\n",
    "Using these values confirm that $\\vert \\mathbf{x}^{T}\\mathbf{y}\\vert\\leq\\Vert \\mathbf{x}\\Vert_{2}\\Vert \\mathbf{y}\\Vert_{2}$.\n",
    "\n",
    "Next verify your hand calculations in the following code cell. Create 1-D NumPy arrays for the vectors $\\mathbf{x}$ and $\\mathbf{y}$, then compute\n",
    "\n",
    "1. $\\mathbf{x}^{T}\\mathbf{y}$ using  `np.dot(x,y)`\n",
    "1. $\\Vert \\mathbf{x}\\Vert_{2}$ and $\\Vert\\mathbf{y}\\Vert_{2}$ using `np.linalg.norm(x)` and `np.linalg.norm(y)`\n",
    "1. Use `np.acos` to compute the angle (`np.acos` is the inverse cosine function).\n",
    "\n",
    "What can we conclude about these vectors?"
   ]
  },
  {
   "cell_type": "code",
   "execution_count": null,
   "id": "e3bf8923",
   "metadata": {},
   "outputs": [],
   "source": [
    "#TODO"
   ]
  },
  {
   "cell_type": "markdown",
   "id": "34f49e91",
   "metadata": {},
   "source": [
    "## Matrix Vector Multiplication\n",
    "\n",
    "Consider the matrix and vector\n",
    "\n",
    "$$\n",
    "A = \n",
    "\\begin{bmatrix}\n",
    "2 & -1 & 3 & 4 \\\\\n",
    "1 & 2 & -3 & 2 \\\\\n",
    "-1 & 1 & 2 & -2 \\\\\n",
    "\\end{bmatrix}\\in\\mathbb{R}^{3\\times 4},\\quad\n",
    "\\mathbf{x}\n",
    "=\n",
    "\\begin{bmatrix}\n",
    "1 \\\\\n",
    "2\\\\\n",
    "3\\\\\n",
    "4\\\\\n",
    "\\end{bmatrix}\\in\\mathbb{R}^{4}.\n",
    "$$\n",
    "\n",
    "Compute by hand $b_{1}=A\\mathbf{x}$.\n",
    "\n",
    "In the following code cell, use NumPy to create the matrix and vector and verify your hand calculation using the `@` operator to perform the matrix-vector multiplication.\n",
    "\n",
    "In addition, implement the matrix-vector multiplication as a sum of columns, i.e., code\n",
    "\n",
    "$$\n",
    "b_{2} = \\sum_{j=1}^{4}\\mathbf{a}_{j}x_{j},\n",
    "$$\n",
    "\n",
    "and verify $b_{1}=b_{2}$. You can get the $j$-th column of $A$ in numpy using `A[:,j]`."
   ]
  },
  {
   "cell_type": "code",
   "execution_count": null,
   "id": "01060f6a",
   "metadata": {},
   "outputs": [],
   "source": [
    "## TODO"
   ]
  },
  {
   "cell_type": "markdown",
   "id": "c0265671",
   "metadata": {},
   "source": [
    "## Matrix-Matrix Multiplication\n",
    "\n",
    "Consider the matrices\n",
    "\n",
    "$$\n",
    "A = \n",
    "\\begin{bmatrix}\n",
    "2 & -1 & 3 & 4 \\\\\n",
    "1 & 2 & -3 & 2 \\\\\n",
    "-1 & 1 & 2 & -2 \\\\\n",
    "\\end{bmatrix}\\in\\mathbb{R}^{3\\times 4},\\quad\n",
    "A^{T}\n",
    "=\n",
    "\\begin{bmatrix}\n",
    "2 & 1 & -1 \\\\\n",
    "-1 & 2 & 1 \\\\\n",
    "3 & -3 & 2 \\\\\n",
    "4 & 2 & -2 \\\\\n",
    "\\end{bmatrix}\\in\\mathbb{R}^{4\\times 3}.\n",
    "$$\n",
    "\n",
    "Compute $C=AA^{T}$ by hand. \n",
    "\n",
    "Then verify using NumPy that:\n",
    "\n",
    "1. Each column $j$ of $C$ is $C[:, j] = \\sum_{k=1}^{4}A[:, k]*B[k, j]$ for $j=1, 2, 3$\n",
    "1. Each row $i$ of $C$ is $C[i, :] = \\sum_{k=1}^{4}B[k, :]*A[i, k]$ for $i=1, 2, 3$\n",
    "1. That $C$ can be expressed as a sum of outer products $C = \\sum_{k=1}^{4} np.outer(A[:, k], B[k, :])$\n",
    "\n",
    "What property does $C$ have?"
   ]
  },
  {
   "cell_type": "code",
   "execution_count": null,
   "id": "29de07c2",
   "metadata": {},
   "outputs": [],
   "source": [
    "#TODO"
   ]
  },
  {
   "cell_type": "markdown",
   "id": "4004217d",
   "metadata": {},
   "source": [
    "## Rotations in 2D \n",
    "\n",
    "Recall from lecture that matrix-vector multiplication transforms one vector into another vector. This is an important operation, for instance, when rotating objects in a computer game. There is a specific 2D matrix for rotating vectors of length 2 (points in the x-y plane) counterclockwise by an angle $\\theta$ in radians. The matrix has the form:\n",
    "\n",
    "$$\n",
    "G =\n",
    "\\begin{pmatrix}\n",
    "\\cos{\\theta} & -\\sin{\\theta} \\\\\n",
    "\\sin{\\theta} & \\cos{\\theta}\n",
    "\\end{pmatrix}\n",
    "$$.\n",
    "\n",
    "Computing the matrix vector product $Gv$ rotates the vector $v$ counterclockwise by the angle $\\theta$.\n",
    "\n",
    "In this problem you need to code several functions that will allow you to rotate a vector by a specified degree. You will then write code to visualize how this vector rotates in the plane.\n",
    "\n",
    "1. Write a function `create_rotation_matrix()` that takes in an angle in degrees. The output should be the rotation matrix corresponding to this angle using the above formula. Remember that to convert from degrees to radians you multiple by a factor of $\\pi/180$. You may use either math or NumPy to import the fucntions $\\cos$, $\\sin$, and constant $\\pi$. Test your function using an angle of $45^{\\circ}$ and print the returned matrix, which should be np.arrray([[ 0.70710678 -0.70710678],[ 0.70710678  0.70710678]])."
   ]
  },
  {
   "cell_type": "code",
   "execution_count": null,
   "id": "57752a5f",
   "metadata": {},
   "outputs": [],
   "source": [
    "# TODO"
   ]
  },
  {
   "cell_type": "markdown",
   "id": "d9c10ae7",
   "metadata": {},
   "source": [
    "2. Using your `create_rotation_matrix` function, write a new function `rotate_vector(vector, angle)` that takes as input a 2D vector and an angle in degrees, and returns the rotated vector. (Do not call a rotation function to do the rotation; use your matrix.)  Test your function using the angle $45^{\\circ}$ and the vector $[1, 0]$, printing the rotated vector."
   ]
  },
  {
   "cell_type": "code",
   "execution_count": null,
   "id": "163f6b47",
   "metadata": {},
   "outputs": [],
   "source": [
    "# TODO"
   ]
  },
  {
   "cell_type": "markdown",
   "id": "3eda112b",
   "metadata": {},
   "source": [
    "3. We now have functions to create a rotation matrix based on an angle and a function to rotate a vector by that angle. Write a new function called `rotate_vectors(vector, angles)` that takes a vector and a list of angles in degrees. This function should return a list containing the original input vector rotated by each angle in the list of angles. Test this function using the vector `[1, 0]` and the list of angles `[0, 30, 60, 90, 120, 150, 180]`. Print the output list of vectors."
   ]
  },
  {
   "cell_type": "code",
   "execution_count": null,
   "id": "42f1d624",
   "metadata": {},
   "outputs": [],
   "source": [
    "# TODO"
   ]
  },
  {
   "cell_type": "markdown",
   "id": "3c6bb0b4",
   "metadata": {},
   "source": [
    "4. To visualize a vector [x, y] in the plane, we can use matplotlib to plot a line from the origin [0, 0] to the point [x, y]. Given the vector [-1, 1], plot a red line representing this vector."
   ]
  },
  {
   "cell_type": "code",
   "execution_count": null,
   "id": "3d9384e3",
   "metadata": {},
   "outputs": [],
   "source": [
    "#TODO"
   ]
  },
  {
   "cell_type": "markdown",
   "id": "901be70b",
   "metadata": {},
   "source": [
    "5. We want to visualize the rotation of our initial vector. To do this write a helper function called `extract_coordinates(vectors)` which takes as input a list of 2D vectors. This function should return 2 numpy arrays that contain the x-coordinates and y-coordinates, respectively. Test this function using your vector of outputs from the previous cell. Print out the x-coordinates and the y-coordinates."
   ]
  },
  {
   "cell_type": "code",
   "execution_count": null,
   "id": "2f11f65c",
   "metadata": {},
   "outputs": [],
   "source": [
    "# TODO"
   ]
  },
  {
   "cell_type": "markdown",
   "id": "fad58af9",
   "metadata": {},
   "source": [
    "6. Let's put everything together now to visualize our rotations. You are given a starting vector `[1, 0]` and the following list of angles `[0, 30, 60, 90, 120, 150, 180, 210, 240, 270, 300, 330]`. Use your previous functions to get the x- and y-coordinates from `extract_coordinates`.  Then plot the rotated vectors in the different colors specified by the `colors` array."
   ]
  },
  {
   "cell_type": "code",
   "execution_count": null,
   "id": "023d9912",
   "metadata": {},
   "outputs": [],
   "source": [
    "import matplotlib.pyplot as plt\n",
    "plt.xlim(-1, 1)\n",
    "plt.ylim(-1, 1)\n",
    "plt.grid()\n",
    "colors = [\n",
    "    \"crimson\", \"teal\", \"gold\", \"indigo\", \"coral\", \n",
    "    \"limegreen\", \"orchid\", \"sienna\", \"dodgerblue\", \"plum\",\n",
    "    \"turquoise\", \"magenta\"\n",
    "]\n",
    "\n",
    "vector = np.array([1, 0])\n",
    "angles = [0, 30, 60, 90, 120, 150, 180, 210, 240, 270, 300, 330]\n",
    "\n",
    "# Use your previously created functions to get a list of x and y coordinates of the rotated vectors\n",
    "\n",
    "vectors = # TODO\n",
    "x_coords, y_coords = # TODO\n",
    "\n",
    "for i, xy in enumerate(zip(x_coords, y_coords)):\n",
    "    # Fill in the correct plot command to plot the xy coordinates of each\n",
    "    # TODO\n",
    "plt.show()"
   ]
  }
 ],
 "metadata": {
  "kernelspec": {
   "display_name": "ds722",
   "language": "python",
   "name": "python3"
  },
  "language_info": {
   "codemirror_mode": {
    "name": "ipython",
    "version": 3
   },
   "file_extension": ".py",
   "mimetype": "text/x-python",
   "name": "python",
   "nbconvert_exporter": "python",
   "pygments_lexer": "ipython3",
   "version": "3.13.2"
  }
 },
 "nbformat": 4,
 "nbformat_minor": 5
}
