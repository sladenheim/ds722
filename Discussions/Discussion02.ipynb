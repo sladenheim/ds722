{
 "cells": [
  {
   "cell_type": "markdown",
   "id": "b6749eca",
   "metadata": {},
   "source": [
    "# Discussion 2\n",
    "\n",
    "In this discussion we review projection and the QR decomposition by focusing on their computational aspects. \n",
    "\n",
    "You can use the Shared Computing Cluster (SCC) or Google Colab to run this notebook.\n",
    "\n",
    "The general instructions for running on the SCC are available under General Resources on [Piazza](https://piazza.com/bu/fall2025/ds722/resources)."
   ]
  },
  {
   "cell_type": "markdown",
   "id": "911f1c67",
   "metadata": {},
   "source": [
    "# Problem 1: Projection in 2D\n",
    "\n",
    "Given the following two standard basis vectors\n",
    "\n",
    "$$\n",
    "e_{1} = \n",
    "\\begin{bmatrix}\n",
    "1 \\\\\n",
    "0\n",
    "\\end{bmatrix}\n",
    "\\quad\n",
    "\n",
    "e_{2} = \n",
    "\\begin{bmatrix}\n",
    "0 \\\\\n",
    "1\n",
    "\\end{bmatrix},\n",
    "$$\n",
    "\n",
    "Numerically compute and visualize the projection of the vector\n",
    "\n",
    "$$\n",
    "v =\n",
    "\\begin{bmatrix}\n",
    "3 \\\\\n",
    "1\n",
    "\\end{bmatrix},\n",
    "$$\n",
    "\n",
    "onto $e_{1}$ and $e_{2}$.\n",
    "\n",
    "Numerically verify that the complementary projector of $e_{1}e_{1}^{T}$ is equivalent to the projector of $e_{2}e_{2}^{T}$."
   ]
  },
  {
   "cell_type": "code",
   "execution_count": null,
   "id": "4581cf1e",
   "metadata": {},
   "outputs": [],
   "source": [
    "#TODO"
   ]
  },
  {
   "cell_type": "code",
   "execution_count": null,
   "id": "cfb5adcf",
   "metadata": {},
   "outputs": [],
   "source": [
    "#TODO"
   ]
  },
  {
   "cell_type": "code",
   "execution_count": null,
   "id": "d814537e",
   "metadata": {},
   "outputs": [],
   "source": [
    "#TODO"
   ]
  },
  {
   "cell_type": "markdown",
   "id": "0714f9d2",
   "metadata": {},
   "source": [
    "Repeat the previous problem but this time use the vectors\n",
    "\n",
    "$$\n",
    "q_{1} = \n",
    "\\frac{\\sqrt{2}}{2}\n",
    "\\begin{bmatrix}\n",
    "1\\\\\n",
    "1\n",
    "\\end{bmatrix}\n",
    "\\quad\n",
    "\n",
    "q_{2} = \n",
    "\\frac{\\sqrt{2}}{2}\n",
    "\\begin{bmatrix}\n",
    "1 \\\\\n",
    "-1\n",
    "\\end{bmatrix}.\n",
    "$$"
   ]
  },
  {
   "cell_type": "code",
   "execution_count": null,
   "id": "fab823ad",
   "metadata": {},
   "outputs": [],
   "source": [
    "#TODO"
   ]
  },
  {
   "cell_type": "code",
   "execution_count": null,
   "id": "0a757f4b",
   "metadata": {},
   "outputs": [],
   "source": [
    "#TODO"
   ]
  },
  {
   "cell_type": "code",
   "execution_count": null,
   "id": "5a30fa73",
   "metadata": {},
   "outputs": [],
   "source": [
    "#TODO"
   ]
  },
  {
   "cell_type": "markdown",
   "id": "a0a8a219",
   "metadata": {
    "vscode": {
     "languageId": "plaintext"
    }
   },
   "source": [
    "# Problem 2: Projection in 3D\n",
    "\n",
    "Let\n",
    "\n",
    "$$\n",
    "A = \n",
    "\\begin{bmatrix}\n",
    "1 & 2 \\\\\n",
    "0 & 1 \\\\\n",
    "1 & 0 \\\\\n",
    "\\end{bmatrix}.\n",
    "$$\n",
    "\n",
    "Compute numerically the orthogonal projector $P$ onto $\\operatorname{range}(A)$ and the image under $P$ of the vector $v=[1, 2, 3]^{T}$.\n",
    "\n",
    "Visualize this projection  similar to what was shown in the class notes."
   ]
  },
  {
   "cell_type": "code",
   "execution_count": null,
   "id": "7df7bc34",
   "metadata": {},
   "outputs": [],
   "source": [
    "#TODO"
   ]
  },
  {
   "cell_type": "code",
   "execution_count": null,
   "id": "2ed0e555",
   "metadata": {},
   "outputs": [],
   "source": [
    "#TODO\n"
   ]
  },
  {
   "cell_type": "markdown",
   "id": "df63f274",
   "metadata": {
    "vscode": {
     "languageId": "plaintext"
    }
   },
   "source": [
    "# Problem 3: Classical Gram-Schmidt\n",
    "\n",
    "Using NumPy implement the classical Gram-Schmidt algorithm. You can implement a function which accepts a 2-D matrix and returns as a 2-D array the orthogonalized columns."
   ]
  },
  {
   "cell_type": "code",
   "execution_count": null,
   "id": "44c0747c",
   "metadata": {},
   "outputs": [],
   "source": [
    "#TODO"
   ]
  },
  {
   "cell_type": "markdown",
   "id": "bdfd425c",
   "metadata": {
    "vscode": {
     "languageId": "plaintext"
    }
   },
   "source": [
    "# Problem 4: Modified Gram-Schmidt"
   ]
  },
  {
   "cell_type": "markdown",
   "id": "05ea763d",
   "metadata": {},
   "source": [
    "Using NumPy implement the modified Gram-Schmidt algorithm. You can implement a function which accepts a 2-D matrix and returns as a 2-D array the orthogonalized columns."
   ]
  },
  {
   "cell_type": "code",
   "execution_count": null,
   "id": "70854d6a",
   "metadata": {},
   "outputs": [],
   "source": [
    "#TODO"
   ]
  },
  {
   "cell_type": "markdown",
   "id": "0fc97252",
   "metadata": {},
   "source": [
    "# Problem 5: CGS vs. MGS\n",
    "\n",
    "Using your code fuctions, create a random matrix of dimension $500 \\times 500$ and compare the returned orthogonal matrices. Which one preserves the orthogonality better?"
   ]
  },
  {
   "cell_type": "code",
   "execution_count": null,
   "id": "c1f7754e",
   "metadata": {},
   "outputs": [],
   "source": [
    "#TODO\n"
   ]
  }
 ],
 "metadata": {
  "kernelspec": {
   "display_name": "ds722",
   "language": "python",
   "name": "python3"
  },
  "language_info": {
   "codemirror_mode": {
    "name": "ipython",
    "version": 3
   },
   "file_extension": ".py",
   "mimetype": "text/x-python",
   "name": "python",
   "nbconvert_exporter": "python",
   "pygments_lexer": "ipython3",
   "version": "3.13.2"
  }
 },
 "nbformat": 4,
 "nbformat_minor": 5
}
