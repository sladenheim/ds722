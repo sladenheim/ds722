{
 "cells": [
  {
   "cell_type": "markdown",
   "id": "c5f5c72f",
   "metadata": {},
   "source": [
    "# Discussion 1\n",
    "\n",
    "In this discussion we review vector and matrix operations by focusing on their computational aspects. \n",
    "\n",
    "You can use the Shared Computing Cluster (SCC) or Google Colab to run this notebook.\n",
    "\n",
    "The general instructions for running on the SCC are available under General Resources on [Piazza](https://piazza.com/bu/fall2025/ds722/resources)."
   ]
  },
  {
   "cell_type": "markdown",
   "id": "a141d4fd",
   "metadata": {},
   "source": [
    "## Formulas\n",
    "\n",
    "### Inner Product\n",
    "\n",
    "The formula for the inner product of two vectors $x,y \\in \\mathbb{R}^n$ is given by \n",
    "$$\n",
    "x^Ty = \\sum_{i=1}^n x_i y_i.\n",
    "$$\n",
    "\n",
    "### Matrix Vector Multiplication\n",
    "\n",
    "The formula for the matrix-vector product $y = Ax$ where $A \\in \\mathbb{R}^{m \\times n}$ and $x \\in \\mathbb{R}^n$ is given by\n",
    "$$\n",
    "y_i = \\sum_{j=1}^n a_{ij} x_j,\n",
    "$$\n",
    "for $i=1,\\ldots,m$.\n",
    "\n",
    "### Matrix Matrix Multiplication\n",
    "\n",
    "The formula for the matrix-matrix product $C = AB$ where $A \\in \\mathbb{R}^{m \\times n}$ and $B \\in \\mathbb{R}^{n \\times p}$ is given by\n",
    "$$\n",
    "c_{ij} = \\sum_{k=1}^n a_{ik} b_{kj},\n",
    "$$\n",
    "for $i=1,\\ldots,m$ and $j=1,\\ldots,p$."
   ]
  },
  {
   "cell_type": "markdown",
   "id": "98fd5694",
   "metadata": {
    "vscode": {
     "languageId": "plaintext"
    }
   },
   "source": [
    "# Problem 1 - FLOPS\n",
    "\n",
    "First compute by hand the number of flops (floating point operations) for each of the following:\n",
    "\n",
    "- inner product of two vectors\n",
    "- matrix-vector multiplication\n",
    "- matrix-matrix multiplication\n",
    "\n",
    "A flop is a single arithmetic operation involving floating-point numbers such as:\n",
    "\n",
    "- addition\n",
    "- subtraction\n",
    "- multiplication\n",
    "- division\n",
    "\n",
    "For this problem you are essentially counting the total number of multiplications and divisions."
   ]
  },
  {
   "cell_type": "markdown",
   "id": "09c630e9",
   "metadata": {},
   "source": [
    "## Inner product\n",
    "\n",
    "Given two vectors $x,y\\in\\mathbb{R}^{n}$ what is the flop count of the inner product?"
   ]
  },
  {
   "cell_type": "markdown",
   "id": "e8bcccf8",
   "metadata": {},
   "source": [
    "## Matrix-vector product\n",
    "\n",
    "Given a matrix $A\\in\\mathbb{R}^{m \\times n}$ and vector $x\\in\\mathbb{R}^{n}$ what is the flop count for the product $y=Ax$?"
   ]
  },
  {
   "cell_type": "markdown",
   "id": "471d6b4f",
   "metadata": {},
   "source": [
    "## Matrix-Matrix product\n",
    "\n",
    "Given a matrix $A\\in\\mathbb{R}^{m\\times n}$ and matrix $B\\in\\mathbb{R}^{n\\times p}$ what is the flop count for the product $C=AB$?"
   ]
  },
  {
   "cell_type": "markdown",
   "id": "680320a5",
   "metadata": {
    "vscode": {
     "languageId": "plaintext"
    }
   },
   "source": [
    "# Problem 2 - Computational Complexity\n",
    "\n",
    "Using NumPy arrays, code your own implementations of\n",
    "\n",
    "- the inner product of two vectors, `inner_product(a, b)`\n",
    "- matrix-vector multiplication, `matrix_vector_product(A, x)`\n",
    "- matrix-matrix multiplication, `matrix_vector_product(A, B)`\n",
    "\n",
    "In addition to returning the relevant computed quantity, calculate the number of flops in your routine. Verify that this number matches what you calculated by hand."
   ]
  },
  {
   "cell_type": "code",
   "execution_count": null,
   "id": "a8af7ff5",
   "metadata": {},
   "outputs": [],
   "source": [
    "#TODO"
   ]
  },
  {
   "cell_type": "code",
   "execution_count": null,
   "id": "023e2285",
   "metadata": {},
   "outputs": [],
   "source": [
    "# TODO"
   ]
  },
  {
   "cell_type": "code",
   "execution_count": null,
   "id": "8e0cd671",
   "metadata": {},
   "outputs": [],
   "source": [
    "# TODO"
   ]
  },
  {
   "cell_type": "code",
   "execution_count": null,
   "id": "a99bdfcb",
   "metadata": {},
   "outputs": [],
   "source": [
    "# Tests\n",
    "\n",
    "import numpy as np\n",
    "rng = np.random.default_rng(seed=42)\n",
    "\n",
    "x = rng.random(5)\n",
    "y = rng.random(5)\n",
    "\n",
    "inner_product_result, inner_flops = inner_product(x, y)\n",
    "\n",
    "print(inner_flops) # Expect 9\n"
   ]
  },
  {
   "cell_type": "code",
   "execution_count": null,
   "id": "2aa65906",
   "metadata": {},
   "outputs": [],
   "source": [
    "A = rng.random((10, 5))\n",
    "\n",
    "b, mv_flops = matrix_vector_product(A, x)\n",
    "\n",
    "print(mv_flops) # Expect 90"
   ]
  },
  {
   "cell_type": "code",
   "execution_count": null,
   "id": "41c88e8f",
   "metadata": {},
   "outputs": [],
   "source": [
    "B = rng.random((5, 10))\n",
    "\n",
    "C, mm_flops = matrix_matrix_product(A, B)\n",
    "\n",
    "print(mm_flops) # Expect 900"
   ]
  },
  {
   "cell_type": "markdown",
   "id": "3785d8a3",
   "metadata": {},
   "source": [
    "# Problem 3 - A closer look at Matrix-Matrix multiplication\n",
    "\n",
    "Recall the definition of matrix multiplication. Given $A\\in\\mathbb{R}^{m \\times n}$, $B\\in\\mathbb{R}^{n \\times p}$, the matrix-matrix product $C = AB \\in\\mathbb{R}^{m \\times p}$ is defined as\n",
    "\n",
    "$$\n",
    "c_{ij} = \\sum_{k=1}^{n} a_{ik}b_{kj},\n",
    "$$\n",
    "\n",
    "for $i=1,\\ldots,m$ and $j=1,\\ldots,p$.\n",
    "\n",
    "In your previous code you most likely implemented this as 3 nested loops, where $i$ ranged overed the $m$ rows in $A$, $j$ ranged over the $p$ columns of $B$ and $k$ ranged over the $n$ columns(rows) of $A$($B$). This $ijk$ loop ordering corresponds to inner loop data access of $A$ by row and $B$ by column.\n",
    "\n",
    "There is no reason we cannot re-order these loops. There are in fact six possible orderings. The total number of flops stays the same for each ordering, but the pattern of data access changes. Let's investigate a few of these."
   ]
  },
  {
   "cell_type": "markdown",
   "id": "3525f8fe",
   "metadata": {},
   "source": [
    "## Column Partitions\n",
    "In class we discussed matrix-matrix multiplication as the linear combination of columns of $A$ with coefficients coming from the columns of $B$. This corresponds to an $ikj$ loop ordering.\n",
    "\n",
    "Write a routine `matrix_matrix_columns(A, B)` which uses columns to implement the matrix multiplication, i.e., your function should use `A[:,k] * B[k, j]`. This function should only have 2 nested loops. You don't need to return the number of flops, only the result of multiplying matrices $A$ and $B$. Verify that this returns the same values"
   ]
  },
  {
   "cell_type": "code",
   "execution_count": null,
   "id": "31b3169a",
   "metadata": {},
   "outputs": [],
   "source": [
    "#TODO"
   ]
  },
  {
   "cell_type": "code",
   "execution_count": null,
   "id": "6273a020",
   "metadata": {},
   "outputs": [],
   "source": [
    "C2 = matrix_matrix_columns(A, B)\n",
    "\n",
    "np.array_equal(C, C2) # Expect True"
   ]
  },
  {
   "cell_type": "markdown",
   "id": "16ec697c",
   "metadata": {},
   "source": [
    "Observe that by vectorizing the $i$ loop over $m$, we are computing the columns of $C$ as linear combinations of the columns of $A$ with coefficients from the columns of $B$.\n"
   ]
  },
  {
   "cell_type": "markdown",
   "id": "4acc7160",
   "metadata": {},
   "source": [
    "## Outer Product\n",
    "\n",
    "One of your homework problems is to show that matrix-matrix multiplication can be computed as a sum of outer products -- so this might be a helpful exercise.\n",
    "\n",
    "Write a routine `matrix_matrix_outer(A, B)` which uses an outer product\n",
    "You can partition $A$ into columns and $B$ into rows and use `np.outer(A[:,k], B[k, :])` to represent the outer product."
   ]
  },
  {
   "cell_type": "code",
   "execution_count": null,
   "id": "54ec3bc0",
   "metadata": {},
   "outputs": [],
   "source": [
    "#TODO"
   ]
  },
  {
   "cell_type": "code",
   "execution_count": null,
   "id": "de2aac78",
   "metadata": {},
   "outputs": [],
   "source": [
    "C3 = matrix_matrix_outer(A, B)\n",
    "\n",
    "np.array_equal(C, C3) # Expect True"
   ]
  },
  {
   "cell_type": "markdown",
   "id": "06239d46",
   "metadata": {},
   "source": [
    "# Problem 4 - When dimensions get large\n",
    "\n",
    "For this exercise we consider $A,B\\in\\mathbb{R}^{m\\times m}$. From the previous exercise we know that matrix-matrix multiplication $C=AB$ is an $\\mathcal{O}(m^{3})$ operation, i.e., if we double the size of our matrix, the number of flops increases by a factor of $8$.\n",
    "\n",
    "For this problem, let's compare the routines that we wrote along with the default NumPy implementation of matrix-matrix multiplication using the `@` operator. \n",
    "\n",
    "Specifically, write a loop ranging over `m = [10, 20, 40, 80, 160, 320, 640]` creating random matrices $A,B\\in\\mathbb{R}^{m\\times m}$ of and time each of the following routines\n",
    "\n",
    "- `matrix_matrix_product(A, B)`\n",
    "- `matrix_matrix_columns(A, B)`\n",
    "- `matrix_matrix_outer(A, B)`\n",
    "- `A @ B`\n",
    "\n",
    "Plot the times on a semilog axis. Does the plot confirm the expected $\\mathcal{O(m^{3})}$ work?"
   ]
  },
  {
   "cell_type": "code",
   "execution_count": null,
   "id": "e3d24702",
   "metadata": {},
   "outputs": [],
   "source": [
    "#TODO"
   ]
  },
  {
   "cell_type": "markdown",
   "id": "b4ae6a63",
   "metadata": {},
   "source": [
    "# Problem 5 - Hardware Acceleration (Optional)\n",
    "\n",
    "For this problem you should use the SCC or Colab with a GPU. For those of you using the SCC, I advise working on this problem in a group so that you get a GPU faster.\n",
    "\n",
    "Matrix multiplication can benefit from hardware acceleration using a Graphics Processing Units (GPU). GPUs are particularly well-suited for this task due to their architecture and capabilities. The reasons are\n",
    "\n",
    "- The inner products in matrix multiplication:\n",
    "\n",
    "$$\n",
    "  C_{ij} = \\sum_{k=1}^{n} A_{ik}B_{kj},\n",
    "$$\n",
    "\n",
    "can be done **in parallel**. GPUs have thousands of cores that can perform these operations simultaneously, unlike CPUs which typically have fewer cores.\n",
    "\n",
    "- GPUs are compute a much larger number of flops/s than CPUs.\n",
    "\n",
    "- High memory bandwith and optimized memory access patterns.\n",
    "\n",
    "Complete the following code cell using that uses a GPU to multiply two matrices using Pytorch. How does this time compare to the times on a CPU? \n",
    "\n",
    "Print these times and confirm if the asymptotic complexity is still $\\mathcal{O}(m^{3})$."
   ]
  },
  {
   "cell_type": "code",
   "execution_count": null,
   "id": "b897206e",
   "metadata": {},
   "outputs": [],
   "source": [
    "import torch\n",
    "from torch.utils.benchmark import Timer\n",
    "\n",
    "torch.manual_seed(42)\n",
    "\n",
    "# Benchmarking\n",
    "sizes = [10, 20, 40, 80, 160, 320, 640, 1280, 2560, 5120, 10240]\n",
    "times = []\n",
    "\n",
    "# TODO"
   ]
  }
 ],
 "metadata": {
  "kernelspec": {
   "display_name": "ds722",
   "language": "python",
   "name": "python3"
  },
  "language_info": {
   "codemirror_mode": {
    "name": "ipython",
    "version": 3
   },
   "file_extension": ".py",
   "mimetype": "text/x-python",
   "name": "python",
   "nbconvert_exporter": "python",
   "pygments_lexer": "ipython3",
   "version": "3.13.2"
  }
 },
 "nbformat": 4,
 "nbformat_minor": 5
}
