{
 "cells": [
  {
   "cell_type": "markdown",
   "id": "1af543a1",
   "metadata": {},
   "source": [
    "# Discussion Week 9\n",
    "\n",
    "In this discussion we will explore distributions and the Central Limit Theorem.\n",
    "\n",
    "You can use the Shared Computing Cluster (SCC) or Google Colab to run this notebook.\n",
    "\n",
    "The general instructions for running on the SCC are available under General Resources on [Piazza](https://piazza.com/bu/fall2025/ds722/resources)."
   ]
  },
  {
   "cell_type": "markdown",
   "id": "c46cfde8",
   "metadata": {},
   "source": [
    "## Problem: Distributions\n",
    "\n",
    "Using the `scipi.stats` library, plot the following distributions:\n",
    "\n",
    "1. Normal distribution with mean 0 and standard deviation 1\n",
    "2. Exponential distribution with rate parameter 1\n",
    "3. Binomial distribution with number of trials 10 and probability of success 0.6\n",
    "\n",
    "The functions you will need are `scipy.stats.norm`, `scipy.stats.expon`, and `scipy.stats.binom`. You can use the `pdf` method to get the probability density function for continuous distributions and the `pmf` method for discrete distributions. For the binomial distribution, you can use `plt.stem` to create a stem plot.\n",
    "\n",
    "Here is the documentation for [scipy.stats](https://docs.scipy.org/doc/scipy/reference/stats.html)."
   ]
  },
  {
   "cell_type": "code",
   "execution_count": null,
   "id": "6c15535d",
   "metadata": {},
   "outputs": [],
   "source": [
    "#TODO\n",
    "from scipy.stats import norm, expon, binom\n",
    "import numpy as np\n",
    "import matplotlib.pyplot as plt\n",
    "\n",
    "## Normal Distribution"
   ]
  },
  {
   "cell_type": "code",
   "execution_count": null,
   "id": "c6fd5f8e",
   "metadata": {},
   "outputs": [],
   "source": [
    "#TODO\n",
    "\n",
    "## Exponential Distribution"
   ]
  },
  {
   "cell_type": "code",
   "execution_count": null,
   "id": "fe7516ea",
   "metadata": {},
   "outputs": [],
   "source": [
    "#TODO\n",
    "## Binomial Distribution"
   ]
  },
  {
   "cell_type": "markdown",
   "id": "0230dba7",
   "metadata": {},
   "source": [
    "## Problem: Central Limit Theorem\n",
    "Generate 1000 samples of size 50 from a uniform distribution between 0 and 1. Calculate the mean of each sample and plot the distribution of these means. Overlay a normal distribution with the same mean and standard deviation as the sample means.\n",
    "\n",
    "Vary the number of samples and sample size (e.g., 10, 30, 100) and observe how the distribution of the sample means changes. Explain your observations in the context of the Central Limit Theorem."
   ]
  },
  {
   "cell_type": "code",
   "execution_count": null,
   "id": "1892713e",
   "metadata": {},
   "outputs": [],
   "source": [
    "#TODO\n",
    "import numpy as np\n",
    "import matplotlib.pyplot as plt\n",
    "from scipy.stats import norm\n",
    "\n",
    "rng = np.random.default_rng(12345)\n",
    "## Central Limit Theorem"
   ]
  }
 ],
 "metadata": {
  "kernelspec": {
   "display_name": "ds722",
   "language": "python",
   "name": "python3"
  },
  "language_info": {
   "codemirror_mode": {
    "name": "ipython",
    "version": 3
   },
   "file_extension": ".py",
   "mimetype": "text/x-python",
   "name": "python",
   "nbconvert_exporter": "python",
   "pygments_lexer": "ipython3",
   "version": "3.13.2"
  }
 },
 "nbformat": 4,
 "nbformat_minor": 5
}
