{
 "cells": [
  {
   "cell_type": "markdown",
   "id": "afddce59",
   "metadata": {},
   "source": [
    "# Discussion 9\n",
    "\n",
    "In this discussion we will explore some interesting problems in probability.\n",
    "\n",
    "You can use the Shared Computing Cluster (SCC) or Google Colab to run this notebook.\n",
    "\n",
    "The general instructions for running on the SCC are available under General Resources on [Piazza](https://piazza.com/bu/fall2025/ds722/resources)."
   ]
  },
  {
   "cell_type": "markdown",
   "id": "f0485c00",
   "metadata": {},
   "source": [
    "## Permutations and Combinations\n",
    "\n",
    "A permutation is an arrangement of objects in a specific order. The number of permutations of $n$ distinct objects is given by $n!$ (n factorial), which is the product of all positive integers up to $n$.\n",
    "\n",
    "A $k$-permutation of $n$ distinct objects is an ordered selection of $k$ objects from the $n$ objects. The number of $k$-permutations of $n$ distinct objects is given by: \n",
    "\n",
    "$$ \n",
    "P(n, k) = \\frac{n!}{(n-k)!}.\n",
    "$$\n",
    "\n",
    "A combination is a selection of objects without regard to the order. The number of combinations of $n$ distinct objects taken $k$ at a time is given by:\n",
    "\n",
    "$$\n",
    "C(n, k) = \\frac{n!}{k!(n-k)!}.\n",
    "$$\n"
   ]
  },
  {
   "cell_type": "markdown",
   "id": "5ad7f3bf",
   "metadata": {
    "vscode": {
     "languageId": "plaintext"
    }
   },
   "source": [
    "## Problem 1: Birthday Problem\n",
    "\n",
    "Let's first start by having our TA record everyone's birthday (month and day, but not year) in the class. We will then use this data to explore the famous *birthday problem*. This is a counterintuitive result in probability that shows that in a group of just 23 people, there is about a 50% chance that at least two people share a birthday. It is counterintuitive because there are 365 days in a year, so you might expect that you would need a much larger group of people to have a good chance of a shared birthday.\n",
    "\n",
    "Do we see any shared birthdays in our class? If so, how many people share a birthday?"
   ]
  },
  {
   "cell_type": "markdown",
   "id": "e251a2ee",
   "metadata": {},
   "source": [
    "\n",
    "How can we derive this probability mathematically?\n",
    "\n",
    "Let $A$ be the event that at least two people share a birthday. The way to determine this probability is to compute the probability of the complement event $A^c$, which is the event that no one shares a birthday, and then use the fact that $P(A) = 1 - P(A^c)$.\n",
    "\n",
    "Assume there are $k$ people in the group and that there are 366 days in a year (we'll include leap days). Answer the two questions:\n",
    "\n",
    "1. What is the total number of possible distinct birthdays for $k$ people?\n",
    "1. What is the number of ways that $k$ people can have distinct birthdays?\n",
    "\n",
    "Using the answers to the two questions above, then answer what is the probability that no one shares a birthday?"
   ]
  },
  {
   "cell_type": "markdown",
   "id": "e1755acb",
   "metadata": {},
   "source": [
    "Now implement a function that simulates the birthday paradox. The function should take as input the number of people in a room and the number of simulations to run. The function should return the probability that at least two people in the room share a birthday. Assume there are 366 days in a year and that each person's birthday is equally likely to be any of the 366 days. Vary the number of simulations and see how it affects the estimate of the probability."
   ]
  },
  {
   "cell_type": "code",
   "execution_count": null,
   "id": "6b1a2d99",
   "metadata": {},
   "outputs": [
    {
     "name": "stdout",
     "output_type": "stream",
     "text": [
      "Estimated probability for 23 people: 0.5030\n"
     ]
    }
   ],
   "source": [
    "#TODO"
   ]
  },
  {
   "cell_type": "markdown",
   "id": "8a3dddcd",
   "metadata": {
    "vscode": {
     "languageId": "plaintext"
    }
   },
   "source": [
    "## Problem 2: Coin Flipping\n",
    "\n",
    "You are given 1,000 coins. One coin has heads on both sides, while the other 999 coins are fair (i.e., they have one head and one tail). You randomly select one coin from the 1,000 coins and flip it 10 times. All 10 flips result in heads. What is the probability that you selected the two-headed coin?\n",
    "\n",
    "We will first derive this probability analytically and then simulate the problem.\n",
    "\n",
    "For the first part, we can use Bayes' theorem to find the probability that you selected the two-headed coin given that you flipped 10 heads in a row."
   ]
  },
  {
   "cell_type": "markdown",
   "id": "8e04c3aa",
   "metadata": {},
   "source": [
    "Let's first define the events:\n",
    "- Let $A$ be the event that you selected the two-headed coin.\n",
    "- Let $B$ be the event that you flipped 10 heads in a row.\n",
    "\n",
    "Calculate the following:\n",
    "\n",
    "1. $P(A)$\n",
    "1. $P(A^c)$\n",
    "1. $P(B|A)$\n",
    "1. $P(B|A^c)$\n",
    "1. $P(B)$\n",
    "1. $P(A|B)$"
   ]
  },
  {
   "cell_type": "markdown",
   "id": "c29d3dd0",
   "metadata": {},
   "source": [
    "Write a function that simulates this problem. The function should take as input the number of simulations to run and return the probability that you selected the two-headed coin given that you flipped 10 heads in a row. Vary the number of simulations and see how it affects the estimate of the probability. Assume that coin 0 is the two-headed coin and coins 1 to 999 are fair coins."
   ]
  },
  {
   "cell_type": "code",
   "execution_count": null,
   "id": "e834743b",
   "metadata": {},
   "outputs": [
    {
     "name": "stdout",
     "output_type": "stream",
     "text": [
      "Estimated probability: 0.5081\n"
     ]
    }
   ],
   "source": [
    "#TODO"
   ]
  }
 ],
 "metadata": {
  "kernelspec": {
   "display_name": "ds722",
   "language": "python",
   "name": "python3"
  },
  "language_info": {
   "codemirror_mode": {
    "name": "ipython",
    "version": 3
   },
   "file_extension": ".py",
   "mimetype": "text/x-python",
   "name": "python",
   "nbconvert_exporter": "python",
   "pygments_lexer": "ipython3",
   "version": "3.13.2"
  }
 },
 "nbformat": 4,
 "nbformat_minor": 5
}
