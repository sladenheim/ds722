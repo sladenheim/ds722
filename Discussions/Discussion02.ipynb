{
 "cells": [
  {
   "cell_type": "markdown",
   "id": "b6749eca",
   "metadata": {},
   "source": [
    "# Discussion Week 3\n",
    "\n",
    "In this discussion we review projection and the QR decomposition by focusing on their computational aspects. \n",
    "\n",
    "You can use the Shared Computing Cluster (SCC) or Google Colab to run this notebook.\n",
    "\n",
    "The general instructions for running on the SCC are available under General Resources on [Piazza](https://piazza.com/bu/fall2025/ds722/resources)."
   ]
  },
  {
   "cell_type": "markdown",
   "id": "cea15877",
   "metadata": {},
   "source": [
    "## NumPy Hints\n",
    "\n",
    "For this discussion, you will need to use the following NumPy functions:\n",
    "\n",
    "- `@` operator for matrix multiplication.\n",
    "- `.T` to transpose a matrix.\n",
    "- `np.dot` to compute the dot product of two arrays.\n",
    "- `np.outer` to compute the outer product of two vectors.\n",
    "- `np.linalg.inv` to compute the inverse of a matrix."
   ]
  },
  {
   "cell_type": "markdown",
   "id": "911f1c67",
   "metadata": {},
   "source": [
    "# Problem 1: Projection in 2D\n",
    "\n",
    "Given the following two standard basis vectors\n",
    "\n",
    "$$\n",
    "e_{1} = \n",
    "\\begin{bmatrix}\n",
    "1 \\\\\n",
    "0\n",
    "\\end{bmatrix}\n",
    "\\quad\n",
    "\n",
    "e_{2} = \n",
    "\\begin{bmatrix}\n",
    "0 \\\\\n",
    "1\n",
    "\\end{bmatrix},\n",
    "$$\n",
    "\n",
    "Numerically compute and visualize the projection of the vector\n",
    "\n",
    "$$\n",
    "v =\n",
    "\\begin{bmatrix}\n",
    "3 \\\\\n",
    "1\n",
    "\\end{bmatrix},\n",
    "$$\n",
    "\n",
    "onto $e_{1}$ and $e_{2}$.\n",
    "\n",
    "Numerically verify that the complementary projector of $e_{1}e_{1}^{T}$ is equivalent to the projector of $e_{2}e_{2}^{T}$, i.e., that $I - e_{1}e_{1}^{T} = e_{2}e_{2}^{T}$."
   ]
  },
  {
   "cell_type": "code",
   "execution_count": null,
   "id": "4581cf1e",
   "metadata": {},
   "outputs": [],
   "source": [
    "#TODO"
   ]
  },
  {
   "cell_type": "code",
   "execution_count": null,
   "id": "cfb5adcf",
   "metadata": {},
   "outputs": [],
   "source": [
    "#TODO"
   ]
  },
  {
   "cell_type": "code",
   "execution_count": null,
   "id": "d814537e",
   "metadata": {},
   "outputs": [],
   "source": [
    "#TODO"
   ]
  },
  {
   "cell_type": "markdown",
   "id": "0714f9d2",
   "metadata": {},
   "source": [
    "Repeat the previous problem but this time use the vectors\n",
    "\n",
    "$$\n",
    "q_{1} = \n",
    "\\frac{\\sqrt{2}}{2}\n",
    "\\begin{bmatrix}\n",
    "1\\\\\n",
    "1\n",
    "\\end{bmatrix}\n",
    "\\quad\n",
    "\n",
    "q_{2} = \n",
    "\\frac{\\sqrt{2}}{2}\n",
    "\\begin{bmatrix}\n",
    "1 \\\\\n",
    "-1\n",
    "\\end{bmatrix}.\n",
    "$$"
   ]
  },
  {
   "cell_type": "code",
   "execution_count": null,
   "id": "fab823ad",
   "metadata": {},
   "outputs": [],
   "source": [
    "#TODO"
   ]
  },
  {
   "cell_type": "code",
   "execution_count": null,
   "id": "0a757f4b",
   "metadata": {},
   "outputs": [],
   "source": [
    "#TODO"
   ]
  },
  {
   "cell_type": "code",
   "execution_count": null,
   "id": "5a30fa73",
   "metadata": {},
   "outputs": [],
   "source": [
    "#TODO"
   ]
  },
  {
   "cell_type": "markdown",
   "id": "a0a8a219",
   "metadata": {
    "vscode": {
     "languageId": "plaintext"
    }
   },
   "source": [
    "# Problem: Projection in 3D (Optional)\n",
    "\n",
    "Let\n",
    "\n",
    "$$\n",
    "A = \n",
    "\\begin{bmatrix}\n",
    "1 & 2 \\\\\n",
    "0 & 1 \\\\\n",
    "1 & 0 \\\\\n",
    "\\end{bmatrix}.\n",
    "$$\n",
    "\n",
    "Compute numerically the orthogonal projector $P$ onto $\\operatorname{range}(A)$ and the image under $P$ of the vector $v=[1, 2, 3]^{T}$.\n",
    "\n",
    "Visualize this projection similar to what was shown in the class notes. The code is available in the HTML notes on Piazza."
   ]
  },
  {
   "cell_type": "code",
   "execution_count": null,
   "id": "6550f49b",
   "metadata": {},
   "outputs": [],
   "source": [
    "#TODO"
   ]
  },
  {
   "cell_type": "code",
   "execution_count": null,
   "id": "8cfaad6a",
   "metadata": {},
   "outputs": [],
   "source": [
    "#TODO"
   ]
  }
 ],
 "metadata": {
  "kernelspec": {
   "display_name": "ds722",
   "language": "python",
   "name": "python3"
  },
  "language_info": {
   "codemirror_mode": {
    "name": "ipython",
    "version": 3
   },
   "file_extension": ".py",
   "mimetype": "text/x-python",
   "name": "python",
   "nbconvert_exporter": "python",
   "pygments_lexer": "ipython3",
   "version": "3.13.2"
  }
 },
 "nbformat": 4,
 "nbformat_minor": 5
}
